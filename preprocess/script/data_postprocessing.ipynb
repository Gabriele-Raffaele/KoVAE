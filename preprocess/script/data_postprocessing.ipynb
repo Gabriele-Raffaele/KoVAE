{
 "cells": [
  {
   "cell_type": "code",
   "execution_count": null,
   "id": "8157798b",
   "metadata": {},
   "outputs": [],
   "source": [
    "import numpy as np\n",
    "\n",
    "# === 1. Carica i dati generati normalizzati ===\n",
    "generated = np.load('./Dataset_dumarey/generated_dumarey.npy')  # shape: (num_seq, seq_len, features)\n",
    "\n",
    "# === 2. Calcola min e max dalle feature reali originali ===\n",
    "real_data = np.loadtxt('./Dataset_dumarey/dataset_rounded_2DE.csv', delimiter=\",\", skiprows=1)\n",
    "real_data = real_data[::-1]  # KoVAE usa i dati in ordine cronologico inverso\n",
    "min_vals = np.min(real_data, axis=0)\n",
    "max_vals = np.max(real_data, axis=0)\n",
    "\n",
    "# === 3. Denormalizza ===\n",
    "# Broadcasting automatico: [num_seq, seq_len, features] * [features]\n",
    "denorm = generated * (max_vals - min_vals) + min_vals\n",
    "\n",
    "# === 4. Salva come CSV 2D ===\n",
    "# Ogni riga rappresenta un singolo timestep\n",
    "denorm_2d = denorm.reshape(-1, denorm.shape[-1])\n",
    "np.savetxt('./generated_dumarey_denorm.csv', denorm_2d, delimiter=',')"
   ]
  }
 ],
 "metadata": {
  "language_info": {
   "name": "python"
  }
 },
 "nbformat": 4,
 "nbformat_minor": 5
}
